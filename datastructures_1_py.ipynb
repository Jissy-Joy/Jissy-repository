{
  "nbformat": 4,
  "nbformat_minor": 0,
  "metadata": {
    "colab": {
      "name": "datastructures 1.py",
      "provenance": [],
      "authorship_tag": "ABX9TyME4eS4qcokAxQpYoPs43j7",
      "include_colab_link": true
    },
    "kernelspec": {
      "name": "python3",
      "display_name": "Python 3"
    }
  },
  "cells": [
    {
      "cell_type": "markdown",
      "metadata": {
        "id": "view-in-github",
        "colab_type": "text"
      },
      "source": [
        "<a href=\"https://colab.research.google.com/github/Jissy-Joy/Jissy-repository/blob/master/datastructures_1_py.ipynb\" target=\"_parent\"><img src=\"https://colab.research.google.com/assets/colab-badge.svg\" alt=\"Open In Colab\"/></a>"
      ]
    },
    {
      "cell_type": "code",
      "metadata": {
        "id": "6HUjam297u6-",
        "colab_type": "code",
        "colab": {
          "base_uri": "https://localhost:8080/",
          "height": 190
        },
        "outputId": "38325373-221e-4125-ef13-4456faf53e61"
      },
      "source": [
        "#assigning elements to a list \n",
        " \n",
        "list1=[5,10,15] \n",
        "list2=[\"apple\", \"peaches\",\"orange\"]\n",
        "print(list1) \n",
        "list1.append(2) \n",
        "print(list1)\n",
        "print(list2) \n",
        "list2.append(\"mango\") \n",
        "print(list2)\n",
        " \n",
        "#accessing elements from a tuple\n",
        " \n",
        "tuple1=(5,10,15,20) \n",
        "print(tuple1) \n",
        "print(tuple1[2])\n",
        "print(tuple1[1: ]) \n",
        " \n",
        "#deleting element from a dictionary \n",
        " \n",
        "dict1={\"albin\":10,\"salvin\":20,\"johnvin\":30}\n",
        "print(dict1) \n",
        "del dict1[\"albin\"]\n",
        "print(dict1)"
      ],
      "execution_count": 3,
      "outputs": [
        {
          "output_type": "stream",
          "text": [
            "[5, 10, 15]\n",
            "[5, 10, 15, 2]\n",
            "['apple', 'peaches', 'orange']\n",
            "['apple', 'peaches', 'orange', 'mango']\n",
            "(5, 10, 15, 20)\n",
            "15\n",
            "(10, 15, 20)\n",
            "{'albin': 10, 'salvin': 20, 'johnvin': 30}\n",
            "{'salvin': 20, 'johnvin': 30}\n"
          ],
          "name": "stdout"
        }
      ]
    },
    {
      "cell_type": "code",
      "metadata": {
        "id": "J5pf1jSg9CTr",
        "colab_type": "code",
        "colab": {}
      },
      "source": [
        ""
      ],
      "execution_count": 0,
      "outputs": []
    },
    {
      "cell_type": "code",
      "metadata": {
        "id": "yLs1L9Uj9D19",
        "colab_type": "code",
        "colab": {}
      },
      "source": [
        ""
      ],
      "execution_count": 0,
      "outputs": []
    },
    {
      "cell_type": "markdown",
      "metadata": {
        "id": "cEL8YcqU9EbO",
        "colab_type": "text"
      },
      "source": [
        ""
      ]
    },
    {
      "cell_type": "markdown",
      "metadata": {
        "id": "yv20Yo7n9E1t",
        "colab_type": "text"
      },
      "source": [
        ""
      ]
    }
  ]
}